{
  "cells": [
    {
      "cell_type": "markdown",
      "id": "5ec19cce",
      "source": [
        "# SQL-TUTORIAL\n",
        "\n",
        "## Was ist SQL?\n",
        "\n",
        "1. SQL steht für Structured Query Language\n",
        "2. Mit SQL können Sie auf Datenbanken zugreifen und diese manipulieren\n",
        "3. SQL wurde 1986 zum Standard des American National Standards Institute (ANSI) und 1987 der International Organization for Standardization (ISO).\n",
        "\n",
        "## Was kann SQL tun?\n",
        "\n",
        "- SQL kann Abfragen gegen eine Datenbank ausführen\n",
        "- SQL kann Daten aus einer Datenbank abrufen\n",
        "- SQL kann Datensätze in eine Datenbank einfügen\n",
        "- SQL kann Datensätze in einer Datenbank aktualisieren\n",
        "- SQL kann Datensätze aus einer Datenbank löschen\n",
        "- SQL kann neue Datenbanken erstellen\n",
        "- SQL kann neue Tabellen in einer Datenbank erstellen\n",
        "- SQL kann gespeicherte Prozeduren in einer Datenbank erstellen\n",
        "- SQL kann Ansichten in einer Datenbank erstellen\n",
        "- SQL kann Berechtigungen für Tabellen, Prozeduren und Ansichten festlegen\n",
        "\n",
        "## Verwenden von SQL in Ihrer Website\n",
        "\n",
        "> Um eine Website zu erstellen, die Daten aus einer Datenbank anzeigt, benötigen Sie:\n",
        ">\n",
        "> > Ein RDBMS-Datenbankprogramm (dh MS Access, SQL Server, MySQL) Zur Verwendung einer serverseitigen Skriptsprache wie PHP oder ASP\n",
        "> >\n",
        "> > > So verwenden Sie SQL, um die gewünschten Daten zu erhalten. Verwenden Sie HTML / CSS, um die Seite zu gestalten\n",
        "\n",
        "# Link zum SQL-TUTORIAL\n",
        "\n",
        "[W3SCHOLLS](https://www.w3schools.com/sql/default.asp)\n",
        "\n",
        "# LUSTIGE ZEIT\n",
        "\n",
        "![1](https://lol24.ee/public/pics/264043/264043909_0.gif)![2](https://www.mapsnbags.com/wp-content/uploads/2018/11/funny-travel-meme-girl-running.jpg)\n",
        "\n",
        "```\n",
        "<!DOCTYPE html>\n",
        "<html>\n",
        "<body>\n",
        "\n",
        "<h2>An Unordered HTML List</h2>\n",
        "\n",
        "<ul>\n",
        "  <li>Coffee</li>\n",
        "  <li>Tea</li>\n",
        "  <li>Milk</li>\n",
        "</ul>\n",
        "\n",
        "<h2>An Ordered HTML List</h2>\n",
        "\n",
        "<ol>\n",
        "  <li>Coffee</li>\n",
        "  <li>Tea</li>\n",
        "  <li>Milk</li>\n",
        "</ol>\n",
        "\n",
        "</body>\n",
        "</html>\n",
        "```\n",
        "\n",
        "# TISCH\n",
        "\n",
        "Kundennummer | Kundenname | Kontaktname | Die Anschrift | Stadt | Postleitzahl | Land\n",
        "--- | --- | --- | --- | --- | --- | ---\n",
        "1 | Alfred | Maria | Obere Str.57 | Berlin | 12209 | Deutschland\n",
        "2 | Anna | Anna | Lavada Str.6 | Mexiko | 05021 | Mexiko\n",
        "3 | Antonio | Antonio | Mataderos 12 | Mexiko | 05023 | Mexiko\n"
      ]
    },
    {
      "cell_type": "code",
      "execution_count": null,
      "id": "9b29a9fd",
      "metadata": {
        "id": "gl_gwz6F6T0IY"
      },
      "outputs": [

      ],
      "source": [

      ]
    }
  ],
  "metadata": {
    "kernelspec": {
      "display_name": "Python 3",
      "language": "python",
      "name": "python3"
    },
    "language_info": {
      "codemirror_mode": {
        "name": "ipython",
        "version": 3
      },
      "file_extension": ".py",
      "mimetype": "text/x-python",
      "name": "python",
      "nbconvert_exporter": "python",
      "pygments_lexer": "ipython3",
      "version": "3.8.8"
    }
  },
  "nbformat": 4,
  "nbformat_minor": 5
}
